{
  "nbformat": 4,
  "nbformat_minor": 0,
  "metadata": {
    "colab": {
      "provenance": [],
      "authorship_tag": "ABX9TyMOSodPUO7Q8S1ol9h/k/0A",
      "include_colab_link": true
    },
    "kernelspec": {
      "name": "python3",
      "display_name": "Python 3"
    },
    "language_info": {
      "name": "python"
    }
  },
  "cells": [
    {
      "cell_type": "markdown",
      "metadata": {
        "id": "view-in-github",
        "colab_type": "text"
      },
      "source": [
        "<a href=\"https://colab.research.google.com/github/brenosbernardo/Python/blob/main/Lista_de_Exerc%C3%ADcios_1_%E2%80%93_Algoritmos.ipynb\" target=\"_parent\"><img src=\"https://colab.research.google.com/assets/colab-badge.svg\" alt=\"Open In Colab\"/></a>"
      ]
    },
    {
      "cell_type": "markdown",
      "source": [
        "1) Faça um algoritmo em Python que leia um número inteiro e mostre o seu antecessor e seu sucessor.\n"
      ],
      "metadata": {
        "id": "TLFyn3yvclDP"
      }
    },
    {
      "cell_type": "code",
      "source": [
        "num=int(input(\"Digite o numero \"))\n",
        "print(\"Numero antecessor é \", num-1)\n",
        "print(\"Numero sucessor é \", num+1)"
      ],
      "metadata": {
        "colab": {
          "base_uri": "https://localhost:8080/"
        },
        "id": "mmCoLJZCcnIB",
        "outputId": "0ca80bba-9412-4431-d293-32c08fce7ec5"
      },
      "execution_count": null,
      "outputs": [
        {
          "output_type": "stream",
          "name": "stdout",
          "text": [
            "Digite o numero 20\n",
            "Numero antecessor é  19\n",
            "Numero sucessor é  21\n"
          ]
        }
      ]
    },
    {
      "cell_type": "markdown",
      "source": [
        "2) Escreva um algoritmo em Python que leia o raio de um círculo, calcule e escreva a sua área, sabendo\n",
        "que a fórmula para cálculo da área é: π*raio2\n",
        "Considere o valor de π como 3.1416\n",
        "\n",
        "Ex. de execução:\n",
        "\n",
        "1.   Digite o raio: 5\n",
        "2.   Area = 78.54"
      ],
      "metadata": {
        "id": "5DYIHWpMjQ1P"
      }
    },
    {
      "cell_type": "code",
      "source": [
        "pi = 3.1416\n",
        "raio=float(input(\"Digite o Raio: \"))\n",
        "\n",
        "area = pi*(raio*raio)\n",
        "print(f\"A area é: {area:.2f}\")"
      ],
      "metadata": {
        "colab": {
          "base_uri": "https://localhost:8080/"
        },
        "id": "AyUl2tW_5O0P",
        "outputId": "420ed822-f07b-4c1c-f80e-e0b71b2f716e"
      },
      "execution_count": null,
      "outputs": [
        {
          "output_type": "stream",
          "name": "stdout",
          "text": [
            "Digite o Raio: 5\n",
            "A area é: 78.54\n"
          ]
        }
      ]
    },
    {
      "cell_type": "markdown",
      "source": [
        "3) Escreva um algoritmo em Python para ler o salário mensal e o percentual de reajuste. Calcular e\n",
        "escrever o valor do novo salário.\n"
      ],
      "metadata": {
        "id": "S__Dgacy7V4k"
      }
    },
    {
      "cell_type": "code",
      "source": [
        "salario = float(input(\"Digite o salario: \"))\n",
        "reajuste = float(input(\"Digite o percentual de reajuste: \"))\n",
        "\n",
        "new_salario = salario * (1 + reajuste/100)\n",
        "print(\"O salario R$ \", salario, \"com o reajuste de %\", reajuste, \"ficou R$ \", new_salario)"
      ],
      "metadata": {
        "colab": {
          "base_uri": "https://localhost:8080/"
        },
        "id": "VI3z2kLH7aMX",
        "outputId": "959ecb65-1e4c-4aad-b7ac-8525e53086ad"
      },
      "execution_count": null,
      "outputs": [
        {
          "output_type": "stream",
          "name": "stdout",
          "text": [
            "Digite o salario: 1000\n",
            "Digite o percentual de reajuste: 5\n",
            "O salario R$  1000.0 com o reajuste de % 5.0 ficou R$  1050.0\n"
          ]
        }
      ]
    },
    {
      "cell_type": "markdown",
      "source": [
        "4) Escreva um algoritmo para ler uma temperatura em graus Fahrenheit, calcular e escrever o valor\n",
        "correspondente em graus Celsius, sabendo que:\n",
        "° C = (°F - 32) / 1.8\n",
        "\n",
        "Ex. de execução:\n",
        "*   Digite a temperatura em graus Fahrenheit: 86\n",
        "*   Temperatura em Celsius = 30\n",
        "\n",
        "\n",
        "\n",
        "\n"
      ],
      "metadata": {
        "id": "_b9oW-oblGKX"
      }
    },
    {
      "cell_type": "code",
      "source": [
        "fahrenheit = float(input(\"Digite quantos Fahrenheit para converter em Celsius: \"))\n",
        "\n",
        "celsius = (fahrenheit-32)/1.8\n",
        "print(f\"Temperatura em °C: {celsius:.2f}\")"
      ],
      "metadata": {
        "colab": {
          "base_uri": "https://localhost:8080/"
        },
        "id": "ULrtWJkjlf_7",
        "outputId": "b4f2971f-0ca4-497d-9c40-4cc1203d638f"
      },
      "execution_count": null,
      "outputs": [
        {
          "output_type": "stream",
          "name": "stdout",
          "text": [
            "Digite quantos Fahrenheit para converter em Celsius: 90\n",
            "Temperatura em °C: 32.22\n"
          ]
        }
      ]
    },
    {
      "cell_type": "markdown",
      "source": [
        "5) Escreva um algoritmo para ler uma temperatura em graus Celsius, calcular e escrever o valor\n",
        "correspondente em graus Fahrenheit.\n"
      ],
      "metadata": {
        "id": "MjEmh94HoLPn"
      }
    },
    {
      "cell_type": "code",
      "source": [
        "celsius = float(input(\"Digite quantos Celsius para converter em Fahrenheit: \"))\n",
        "\n",
        "fahrenheit = (celsius * 1.8)+32\n",
        "print(f\"Temperatura em °F: {fahrenheit:.2f}\")"
      ],
      "metadata": {
        "colab": {
          "base_uri": "https://localhost:8080/"
        },
        "id": "AnDuOxJkoOEC",
        "outputId": "049e8ca1-326a-4107-f9a1-477ba9cd4489"
      },
      "execution_count": null,
      "outputs": [
        {
          "output_type": "stream",
          "name": "stdout",
          "text": [
            "Digite quantos Celsius para converter em Fahrenheit: 30\n",
            "Temperatura em °F: 86.00\n"
          ]
        }
      ]
    },
    {
      "cell_type": "markdown",
      "source": [
        "6) Um motorista deseja colocar no seu tanque X reais de gasolina. Escreva um algoritmo para ler o preço\n",
        "do litro da gasolina e o valor do pagamento, e exibir quantos litros ele conseguiu colocar no tanque."
      ],
      "metadata": {
        "id": "Oepy-KGhwfo9"
      }
    },
    {
      "cell_type": "code",
      "source": [
        "prelitro = float(input(\"Digite o preço do combustivel: \"))\n",
        "pagamento = float(input(\"Digite quantos R$ quer por em combustivel: \"))\n",
        "\n",
        "litro = pagamento / prelitro\n",
        "\n",
        "print(f\"A quantidade de litros é {litro:.2f}\")\n"
      ],
      "metadata": {
        "colab": {
          "base_uri": "https://localhost:8080/"
        },
        "id": "cK00133Awi5J",
        "outputId": "d1507825-3987-4d0c-a4d8-b3d4a0fa0bd7"
      },
      "execution_count": null,
      "outputs": [
        {
          "output_type": "stream",
          "name": "stdout",
          "text": [
            "Digite o preço do combustivel: 3.97\n",
            "Digite quantos R$ quer por em combustivel: 50.00\n",
            "A quantidade de litros é 12.59\n"
          ]
        }
      ]
    },
    {
      "cell_type": "markdown",
      "source": [
        "7) Uma fábrica de camisetas produz os tamanhos pequeno, médio e grande, cada uma sendo vendida\n",
        "respectivamente por 25, 27 e 30 Reais. Construa um algoritmo em que o usuário forneça a quantidade\n",
        "de camisetas pequenas, médias e grandes referentes a uma venda, e a máquina informe quanto será\n",
        "o valor arrecadado."
      ],
      "metadata": {
        "id": "fsfMeC9h6Yp8"
      }
    },
    {
      "cell_type": "code",
      "source": [
        "valor_p = 25\n",
        "valor_m = 27\n",
        "valor_g = 30\n",
        "cami_p = int(input(\"Digite a quantidade de camisetas P: \"))\n",
        "cami_m = int(input(\"Digite a quantidade de camisetas M: \"))\n",
        "cami_g = int(input(\"Digite a quantidade de camisetas G: \"))\n",
        "\n",
        "if(cami_p >= 1) or (cami_m >= 1) or (cami_g >= 1):\n",
        "  venda = (cami_p * valor_p)+(cami_m * valor_m)+(cami_g * valor_g)\n",
        "  print(\"Valor total da compra é: \",venda)\n",
        "else: \n",
        "  print(\"Digite alguma quantidade!\")\n"
      ],
      "metadata": {
        "colab": {
          "base_uri": "https://localhost:8080/"
        },
        "id": "W3ahd3Gd6im0",
        "outputId": "c24196ae-5966-4990-befd-d697f10765eb"
      },
      "execution_count": null,
      "outputs": [
        {
          "output_type": "stream",
          "name": "stdout",
          "text": [
            "Digite a quantidade de camisetas P: 1\n",
            "Digite a quantidade de camisetas M: 0\n",
            "Digite a quantidade de camisetas G: 1\n",
            "Valor total da compra é:  55\n"
          ]
        }
      ]
    },
    {
      "cell_type": "markdown",
      "source": [
        "8) Num dia de sol, você deseja medir a altura de um prédio, porém, a trena não é suficientemente longa.\n",
        "Assumindo que seja possível medir sua sombra e a do prédio no chão, e que você lembre da sua\n",
        "altura, faça um algoritmo para ler os dados necessários e calcular a altura do prédio, com base no\n",
        "teorema de Tales."
      ],
      "metadata": {
        "id": "eln60Oxqmy8o"
      }
    },
    {
      "cell_type": "code",
      "source": [
        "alturapessoa = float(input(\"Digite sua altura em metros: \"))\n",
        "spessoa = float(input(\"Digite sua sombra em metros: \"))\n",
        "spredio = float(input(\"Digite a sombra do predio em metros: \"))\n",
        " \n",
        "altpred =  (alturapessoa*spredio) / spessoa\n",
        "\n",
        "print(f\"Altura do prédio é de: {altpred:.2f}\")"
      ],
      "metadata": {
        "id": "R-0ShRyr4yOk",
        "colab": {
          "base_uri": "https://localhost:8080/"
        },
        "outputId": "6dfc3137-4804-44d2-a636-73498ea7192a"
      },
      "execution_count": null,
      "outputs": [
        {
          "output_type": "stream",
          "name": "stdout",
          "text": [
            "Digite sua altura em metros: 1.70\n",
            "Digite sua sombra em metros: 2\n",
            "Digite a sombra do predio em metros: 40\n",
            "Altura do prédio é de: 34.00\n"
          ]
        }
      ]
    },
    {
      "cell_type": "markdown",
      "source": [
        "9) Faça um algoritmo em Python que solicite a distância em Km, o valo em pedágios, o preço do\n",
        "combustível, quantos Km/l o veículo tem de consumo e calcule e mostre o valor total gasto com a\n",
        "viagem."
      ],
      "metadata": {
        "id": "VOXOmYHmMnSq"
      }
    },
    {
      "cell_type": "code",
      "source": [
        "distancia = float(input(\"Digite a distancia em KM: \"))\n",
        "pedagio = float(input(\"Digite o valor do pedágio: \"))\n",
        "precombu = float(input(\"Digite o preço do combustivel: \"))\n",
        "kmlitro = float(input(\"Digite quantos KM o carro faz com 1 litro: \"))\n",
        "\n",
        "viagem = ((distancia / kmlitro) * precombu) + pedagio\n",
        "\n",
        "print(f\"Valor total gasto com a viagem: {viagem:.2f}\")\n",
        "\n"
      ],
      "metadata": {
        "colab": {
          "base_uri": "https://localhost:8080/"
        },
        "id": "_gFcacV6Mrq5",
        "outputId": "fd73eb47-a6e8-4d7a-9d05-cedf177715e5"
      },
      "execution_count": null,
      "outputs": [
        {
          "output_type": "stream",
          "name": "stdout",
          "text": [
            "Digite a distancia em KM: 100\n",
            "Digite o valor do pedágio: 5\n",
            "Digite o preço do combustivel: 4.50\n",
            "Digite quantos KM o carro faz com 1 litro: 13\n",
            "Valor total gasto com a viagem: 39.62\n"
          ]
        }
      ]
    },
    {
      "cell_type": "markdown",
      "source": [
        "10) Tendo como dado de entrada a altura (h) de uma pessoa, construa um algoritmo que calcule seu IMC\n",
        "(índice me massa corporal), utilizando a seguinte fórmula:\n",
        "IMC = Peso em kg / (Altura em m)²."
      ],
      "metadata": {
        "id": "PSZV_uwcQqtL"
      }
    },
    {
      "cell_type": "code",
      "source": [
        "altura = float(input(\"Digite a altura: \"))\n",
        "peso = float(input(\"Digite seu pedo: \"))\n",
        "\n",
        "imc = peso/(altura*altura)\n",
        "\n",
        "print(f\"Seu imc é: {imc:.2f}\")"
      ],
      "metadata": {
        "colab": {
          "base_uri": "https://localhost:8080/"
        },
        "id": "vzuH3zDwQt0N",
        "outputId": "30f9c159-71e4-4659-9769-26a2b62be0d9"
      },
      "execution_count": null,
      "outputs": [
        {
          "output_type": "stream",
          "name": "stdout",
          "text": [
            "Digite a altura: 1.70\n",
            "Digite seu pedo: 80\n",
            "Seu imc é: 27.68\n"
          ]
        }
      ]
    },
    {
      "cell_type": "markdown",
      "source": [
        "11) Faça um algoritmo em Python para uma loja de tintas. O programa deverá pedir o a largura e altura\n",
        "em metros da parede a ser pintada. Considere que a cobertura da tinta é de 1 litro para cada 3 metros\n",
        "quadrados e que a tinta é vendida em latas de 18 litros, que custam R$ 290,00.\n",
        "Informe ao usuário a quantidades de latas de tinta a serem compradas e o preço total."
      ],
      "metadata": {
        "id": "_jb73mATRfNq"
      }
    },
    {
      "cell_type": "code",
      "source": [
        "lata = 18\n",
        "valorlata = 290\n",
        "larg = float(input(\"Digite a largura da parede em metros: \"))\n",
        "alt = float(input(\"Digite a altura da parede em metros: \"))\n",
        "\n",
        "metroquadrado = alt * larg\n",
        "cobertinta = lata * 3\n",
        "totlata = metroquadrado / cobertinta\n",
        "gasto = totlata * valorlata\n",
        "\n",
        "print(f\"total de latas:{totlata:.2f} \" f\"Valor gasto: {gasto:.2f}\")\n",
        "\n"
      ],
      "metadata": {
        "id": "s81GiNecRgf7",
        "colab": {
          "base_uri": "https://localhost:8080/"
        },
        "outputId": "94ef4d92-41c3-4b4d-a191-a070a34d465a"
      },
      "execution_count": null,
      "outputs": [
        {
          "output_type": "stream",
          "name": "stdout",
          "text": [
            "Digite a largura da parede em metros: 15\n",
            "Digite a altura da parede em metros: 15\n",
            "total de latas:4.17 Valor gasto: 1208.33\n"
          ]
        }
      ]
    },
    {
      "cell_type": "markdown",
      "source": [
        "12) Desenvolva um algoritmo em Python que leia os valores de A, B e C de uma equação do segundo\n",
        "grau, calcule e mostre o valor de Delta"
      ],
      "metadata": {
        "id": "P3cNQLcimjPe"
      }
    },
    {
      "cell_type": "code",
      "source": [
        "A = float(input(\"Digite valor de A: \"))\n",
        "B = float(input(\"Digite valor de B: \"))\n",
        "C = float(input(\"Digite valor de C: \"))\n",
        "\n",
        "delta = (B*B)-4*A*C\n",
        "print(f\"O valor de Delta é: {delta:.2f}\")\n"
      ],
      "metadata": {
        "colab": {
          "base_uri": "https://localhost:8080/"
        },
        "id": "Vihl1Z4MmplT",
        "outputId": "9c9a2025-8de6-4bdf-8716-210dccc30b3b"
      },
      "execution_count": null,
      "outputs": [
        {
          "output_type": "stream",
          "name": "stdout",
          "text": [
            "Digite valor de A: 10\n",
            "Digite valor de B: 10\n",
            "Digite valor de C: 10\n",
            "O valor de Delta é: -300.00\n"
          ]
        }
      ]
    },
    {
      "cell_type": "markdown",
      "source": [
        "13) Construa um algoritmo que, tendo como dados de entrada dois pontos quaisquer no plano, P(XA ,YA)\n",
        "e P(XB,YB), escreva a distância entre eles. A fórmula que efetua tal cálculo é:"
      ],
      "metadata": {
        "id": "hhFt6mv7pDK1"
      }
    },
    {
      "cell_type": "code",
      "source": [
        "XA = float(input(\"Digite a coordenada X do primeiro ponto: \"))\n",
        "YA = float(input(\"Digite a coordenada Y do primeiro ponto: \"))\n",
        "XB = float(input(\"Digite a coordenada X do segundo ponto: \"))\n",
        "YB = float(input(\"Digite a coordenada Y do segundo ponto: \"))\n",
        "\n",
        "distancia = ((XB - XA)**2 + (YB - YA)**2)**0.5\n",
        "\n",
        "print(\"A distância entre os dois pontos é: \", distancia)"
      ],
      "metadata": {
        "id": "jBBE4x2vpJYN",
        "colab": {
          "base_uri": "https://localhost:8080/"
        },
        "outputId": "ad1925b8-c5ce-41d4-daef-cb8e645f8a02"
      },
      "execution_count": null,
      "outputs": [
        {
          "output_type": "stream",
          "name": "stdout",
          "text": [
            "Digite a coordenada X do primeiro ponto: 10\n",
            "Digite a coordenada Y do primeiro ponto: 11\n",
            "Digite a coordenada X do segundo ponto: 20\n",
            "Digite a coordenada Y do segundo ponto: 22\n",
            "A distância entre os dois pontos é:  14.866068747318506\n"
          ]
        }
      ]
    },
    {
      "cell_type": "markdown",
      "source": [
        "14) Faça um algoritmo em Python que solicite o valor inicial de um capital em R$ a ser emprestado, a taxa\n",
        "de juros ao mês (em %) , o tempo em meses da empréstimo e calcule o montante final a ser pago\n",
        "após o prazo.\n",
        "Utilize para o cálculo dos a fórmula dos juros simples:\n",
        "J = C * i * t\n",
        "Onde: J = juros\n",
        "C = capital\n",
        "i = taxa de juro do período\n",
        "t = tempo\n",
        "Ex. Para R$1000 a uma taxa e 0.75% a.m. em 24 meses:\n",
        "J=1000*(0.75/100)*24\n",
        "J=R$180\n",
        "Montante Final = (1000 + 180) => R$1180"
      ],
      "metadata": {
        "id": "-FUhA9PVvarx"
      }
    },
    {
      "cell_type": "code",
      "source": [
        "cap = float(input(\"Digite o valor a ser emprestado: \"))\n",
        "taxajur = float(input(\"Digite a taxa de juros: \"))\n",
        "temp = float(input(\"Digite a quantidade de meses: \"))\n",
        "\n",
        "jur = cap * (taxajur/100) * temp\n",
        "mfinal = cap + jur\n",
        "\n",
        "print(\"Resultado: \", mfinal)\n",
        "\n"
      ],
      "metadata": {
        "id": "dO3B0I6CveqO",
        "colab": {
          "base_uri": "https://localhost:8080/"
        },
        "outputId": "2e1d8a77-5191-4643-f389-9ebcc39a34db"
      },
      "execution_count": null,
      "outputs": [
        {
          "output_type": "stream",
          "name": "stdout",
          "text": [
            "Digite o valor a ser emprestado: 1000\n",
            "Digite a taxa de juros: 0.75\n",
            "Digite a quantidade de meses: 24\n",
            "Resultado:  1180.0\n"
          ]
        }
      ]
    },
    {
      "cell_type": "markdown",
      "source": [
        "15) Faça o exercício anterior utilizando a fórmula dos juros compostos:\n",
        "M = C*(1 + i)t\n",
        "Onde: M = montante\n",
        "C = capital\n",
        "i = taxa de juros do período\n",
        "t = tempo\n",
        "Ex. Para R$1000 a uma taxa e 0.75% a.m. em 24 meses:\n",
        "M = 1000*(1+(0.75/100))24\n",
        "M = 1000*1.964135 => R$ 1196.4135"
      ],
      "metadata": {
        "id": "ULiRFugox9Xh"
      }
    },
    {
      "cell_type": "code",
      "source": [
        "cap = float(input(\"Digite o valor a ser emprestado: \"))\n",
        "taxajur = float(input(\"Digite a taxa de juros: \"))\n",
        "temp = float(input(\"Digite a quantidade de meses: \"))\n",
        "taxajur=taxajur/100\n",
        "mont = cap *((1 + taxajur)**temp)\n",
        "\n",
        "print(f\"Resultado: {mont:.2f}\")"
      ],
      "metadata": {
        "colab": {
          "base_uri": "https://localhost:8080/"
        },
        "id": "eWDXIG6ux_qS",
        "outputId": "3c938c99-ae84-4db8-a725-a9aea8c43c66"
      },
      "execution_count": null,
      "outputs": [
        {
          "output_type": "stream",
          "name": "stdout",
          "text": [
            "Digite o valor a ser emprestado: 1000\n",
            "Digite a taxa de juros: 0.75\n",
            "Digite a quantidade de meses: 25\n",
            "Resultado: 1205.39\n"
          ]
        }
      ]
    },
    {
      "cell_type": "markdown",
      "source": [
        "16) Faça um algoritmo em Python que solicite a quantidade de vitórias, empates e derrotas de um time\n",
        "e calcule a quantidade de pontos no campeonato sabendo que cada vitória vale 3 pontos, empate\n",
        "vale 1 ponto e derrota 0 pontos.\n"
      ],
      "metadata": {
        "id": "2WuVrS9Z1pLR"
      }
    },
    {
      "cell_type": "code",
      "source": [
        "v = 3\n",
        "e = 1\n",
        "d = 0\n",
        "\n",
        "quantv = float(input(\"Digite a quantidade de vitórias: \"))\n",
        "quante = float(input(\"Digite a quantidade de empates: \"))\n",
        "quantd = float(input(\"Digite a quantidade de derrotas: \"))\n",
        "\n",
        "pontos = (quantv * v) + (quante * e) + (quantd * d)\n",
        "print(\"Pontos: \", pontos)"
      ],
      "metadata": {
        "colab": {
          "base_uri": "https://localhost:8080/"
        },
        "id": "HfLqdAIi1r1q",
        "outputId": "fa2ce949-585d-44a5-be4f-a635d2aa19a5"
      },
      "execution_count": null,
      "outputs": [
        {
          "output_type": "stream",
          "name": "stdout",
          "text": [
            "Digite a quantidade de vitórias: 1\n",
            "Digite a quantidade de empates: 1\n",
            "Digite a quantidade de derrotas: 0\n",
            "Pontos:  4.0\n"
          ]
        }
      ]
    },
    {
      "cell_type": "markdown",
      "source": [
        "\n",
        "\n",
        "Crie um algoritmo que receba quanto você ganha por hora e quantas horas trabalhou no mês. O algoritmo deve calcular e mostrar o seu salário no referido mês, sabendo que serão descontados 11% do Imposto de Renda (IR) e mais 8% do INSS. No final o algoritmo deve apresentar:\n",
        "\n",
        "    Salário bruto\n",
        "    Valor do imposto de renda\n",
        "    Valor do INSS\n",
        "    Salário líquido\n",
        "\n"
      ],
      "metadata": {
        "id": "dji9GXqXCrFZ"
      }
    },
    {
      "cell_type": "code",
      "source": [
        "ganhohora = float(input(\"Digite o ganho por horas em reais: \"))\n",
        "horatrabalhada = float(input(\"Digite a quantidade de horas trabalhadas: \"))\n",
        "\n",
        "bruto = ganhohora * horatrabalhada\n",
        "ir = bruto - 0.10\n",
        "inss = bruto + 0.8\n",
        "valorir = bruto - ir\n",
        "valorinss = bruto - inss\n",
        "\n",
        "print(\"valor bruto: \",bruto)\n",
        "print(\"valor com desconto imposto: \",ir)"
      ],
      "metadata": {
        "colab": {
          "base_uri": "https://localhost:8080/"
        },
        "id": "yJlPSqskCte7",
        "outputId": "222d6012-be76-48b5-8046-12606d014c63"
      },
      "execution_count": null,
      "outputs": [
        {
          "output_type": "stream",
          "name": "stdout",
          "text": [
            "Digite o ganho por horas em reais: 10\n",
            "Digite a quantidade de horas trabalhadas: 10\n",
            "valor bruto:  100.0\n",
            "valor com desconto imposto:  99.9\n"
          ]
        }
      ]
    }
  ]
}